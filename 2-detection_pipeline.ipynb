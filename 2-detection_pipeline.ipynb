{
 "cells": [
  {
   "cell_type": "markdown",
   "id": "0f512006-0878-4361-8c24-a5b3db59b075",
   "metadata": {},
   "source": [
    "# FreeWheel Logo Detection模型Pipeline构建"
   ]
  },
  {
   "cell_type": "markdown",
   "id": "b1b73e20-46d5-46db-9368-cf488c676d51",
   "metadata": {},
   "source": [
    "## 0. 准备和初始化"
   ]
  },
  {
   "cell_type": "markdown",
   "id": "c09a7a03-603c-4005-b568-d1aaad4d3d46",
   "metadata": {},
   "source": [
    "第一步工作是安装step functions data scientist SDK，这个SDK能简化构建step functions工作流的复杂度，以编程的方式构建，而不是通过传统的编写SFN的ASL语言的方式。"
   ]
  },
  {
   "cell_type": "code",
   "execution_count": 1,
   "id": "f92ef530-cb87-4805-9868-34e4e6509e02",
   "metadata": {
    "tags": []
   },
   "outputs": [],
   "source": [
    "import sys\n",
    "!{sys.executable} -m pip install --upgrade stepfunctions 1>/dev/null"
   ]
  },
  {
   "cell_type": "markdown",
   "id": "003602e0-7283-4d2f-ac40-8c53ca62e94d",
   "metadata": {},
   "source": [
    "第二步是准备好训练用的数据，为了可以更快速的验证和调试step function，我们对logo3k和fw5k数据做一些抽样话处理\n",
    "下述步骤是为了准备好基础训练（logo3k）和增量训练（fw5k）的数据，如果你有自己的数据，请按照如下的s3目录结构组织起来：\n",
    "\n",
    "YOUR_S3_BUCKET  \n",
    "$~~~~~~~~~$|──LogoDet-3K/      \n",
    "$~~~~~~~~~$$~~~~~~~~~$|── cfg/    \n",
    "$~~~~~~~~~$$~~~~~~~~~$|── datasets/    \n",
    "$~~~~~~~~~$$~~~~~~~~~$|$~~~~~~~~~$|── images/     \n",
    "$~~~~~~~~~$$~~~~~~~~~$│$~~~~~~~~~$|$~~~~~~~~~$|── train/     \n",
    "$~~~~~~~~~$$~~~~~~~~~$|$~~~~~~~~~$|$~~~~~~~~~$|── val/     \n",
    "$~~~~~~~~~$$~~~~~~~~~$|$~~~~~~~~~$|── labels/     \n",
    "$~~~~~~~~~$$~~~~~~~~~$|$~~~~~~~~~$$~~~~~~~~~~$|── train/   \n",
    "$~~~~~~~~~$$~~~~~~~~~$|$~~~~~~~~~$$~~~~~~~~~~$|── val/   \n",
    "$~~~~~~~~~$$~~~~~~~~~$|── weights/  \n",
    "\n",
    "以上图为例，只要保证“LogoDet-3K”及一下层级按照此结构组织就好，如果数据已准备好请跳过如下数据准备的步骤"
   ]
  },
  {
   "cell_type": "code",
   "execution_count": 14,
   "id": "50575b08-732b-474e-8728-a73628608538",
   "metadata": {
    "tags": []
   },
   "outputs": [],
   "source": [
    "'''\n",
    "单独创建一个文件夹pipeline-exp-data，用于存放调试sfn所用的数据训练数据\n",
    "'''\n",
    "!rm -rf pipeline-exp-data\n",
    "\n",
    "!mkdir -p pipeline-exp-data/LogoDet-3K/datasets/images/train\n",
    "!mkdir -p pipeline-exp-data/LogoDet-3K/datasets/images/val\n",
    "!mkdir -p pipeline-exp-data/LogoDet-3K/datasets/labels/train\n",
    "!mkdir -p pipeline-exp-data/LogoDet-3K/datasets/labels/val\n",
    "!mkdir -p pipeline-exp-data/LogoDet-3K/cfg/\n",
    "\n",
    "!mkdir -p pipeline-exp-data/FreeWheel-5K-by-video-name/datasets/images/train\n",
    "!mkdir -p pipeline-exp-data/FreeWheel-5K-by-video-name/datasets/images/val\n",
    "!mkdir -p pipeline-exp-data/FreeWheel-5K-by-video-name/datasets/labels/train\n",
    "!mkdir -p pipeline-exp-data/FreeWheel-5K-by-video-name/datasets/labels/val\n",
    "!mkdir -p pipeline-exp-data/FreeWheel-5K-by-video-name/cfg/\n"
   ]
  },
  {
   "cell_type": "markdown",
   "id": "04bfeb55-40ea-4e63-8220-1480ba5f548b",
   "metadata": {},
   "source": [
    "准备logo3k实验数据"
   ]
  },
  {
   "cell_type": "code",
   "execution_count": 8,
   "id": "67d9d29c-77c7-4d71-89b3-310acaa4416f",
   "metadata": {
    "tags": []
   },
   "outputs": [],
   "source": [
    "'''\n",
    "准备logo3k实验数据, 除了设置了抽样率，其他逻辑和《FreeWheel Logo Detection模型训练指导》无异\n",
    "'''\n",
    "import os\n",
    "import shutil\n",
    "import xmltodict\n",
    "from tqdm import tqdm\n",
    "\n",
    "class_names_map = {'logo': 0}\n",
    "\n",
    "DET_DATA_DIR = 'pipeline-exp-data'\n",
    "LD3K_DATA_DIR = DET_DATA_DIR + '/' + 'LogoDet-3K'\n",
    "LD3K_DS_DIR = LD3K_DATA_DIR + '/' + 'datasets'\n",
    "RAW_LD3K_DS_DIR = 'raw_data/LogoDet-3K' # 如果raw_data中没有数据，请重新运行一下logodet-prep.sh\n",
    "sample_rate = 0.01 # 设置抽样率"
   ]
  },
  {
   "cell_type": "code",
   "execution_count": 15,
   "id": "f1578bde-e9da-4a9c-a7a5-5c18ba258d4c",
   "metadata": {
    "tags": []
   },
   "outputs": [
    {
     "name": "stderr",
     "output_type": "stream",
     "text": [
      "100%|██████████| 9/9 [00:01<00:00,  7.62it/s]\n"
     ]
    }
   ],
   "source": [
    "sub_dirs = os.listdir(RAW_LD3K_DS_DIR)\n",
    "for sub_dir in tqdm(sub_dirs):\n",
    "    if 'DS_Store' not in sub_dir:\n",
    "        sub_sub_dirs = os.listdir(os.path.join(RAW_LD3K_DS_DIR, sub_dir))\n",
    "        for sub_sub_dir in sub_sub_dirs:\n",
    "            if 'DS_Store' not in sub_sub_dir:\n",
    "                filenames = os.listdir(os.path.join(RAW_LD3K_DS_DIR, sub_dir, sub_sub_dir))\n",
    "                i = 0\n",
    "                for filename in filenames:\n",
    "                    if i > int(len(filenames) * sample_rate):\n",
    "                        break\n",
    "                    old_filename = os.path.join(RAW_LD3K_DS_DIR, sub_dir, sub_sub_dir, filename)\n",
    "                    if filename.endswith('xml'):\n",
    "                        old_image_filename = os.path.join(RAW_LD3K_DS_DIR, sub_dir, sub_sub_dir, filename.replace('xml', 'jpg'))\n",
    "                        #print(old_image_filename)\n",
    "                        new_image_filename = os.path.join(LD3K_DS_DIR, 'images/train', sub_dir+'_'+sub_sub_dir+'_'+filename.replace('xml', 'jpg'))\n",
    "                        #print(new_image_filename)\n",
    "                        shutil.copy(old_image_filename, new_image_filename)\n",
    "                        \n",
    "                        new_filename = os.path.join(LD3K_DS_DIR, 'labels/train', sub_dir+'_'+sub_sub_dir+'_'+filename.replace('xml', 'txt'))\n",
    "                        file_object = open(old_filename, encoding='utf-8')                                                                                                            \n",
    "                        try:\n",
    "                            all_the_xmlStr = file_object.read()\n",
    "                        finally:\n",
    "                            file_object.close()\n",
    "                        convertedDict = xmltodict.parse(all_the_xmlStr)\n",
    "                #         print(len(convertedDict['annotation']['object']))\n",
    "                        if 'object' in convertedDict['annotation']:\n",
    "                            fix_width = int(convertedDict['annotation']['size']['width'])\n",
    "                            fix_height = int(convertedDict['annotation']['size']['height'])\n",
    "                            \n",
    "                            objs = convertedDict['annotation']['object']\n",
    "                            if not isinstance(objs,list):\n",
    "                                objs = [objs]\n",
    "                #                 print('objs:', objs)\n",
    "                            with open(new_filename, 'w') as fout:\n",
    "                                for annotation in objs:\n",
    "                                    # class_id = 0\n",
    "                                    if annotation['name'] not in class_names_map:\n",
    "                                        class_names_map[annotation['name']] = len(class_names_map)\n",
    "                                    class_id = class_names_map[annotation['name']]\n",
    "\n",
    "                                    xmin = int(annotation['bndbox']['xmin'])\n",
    "                                    ymin = int(annotation['bndbox']['ymin'])\n",
    "                                    xmax = int(annotation['bndbox']['xmax'])\n",
    "                                    ymax = int(annotation['bndbox']['ymax'])\n",
    "\n",
    "                                    w = xmax-xmin\n",
    "                                    h = ymax-ymin\n",
    "\n",
    "                                    if w>0 and h>0:\n",
    "                                        center_x = (xmin+xmax)/2\n",
    "                                        center_y = (ymin+ymax)/2\n",
    "                                        fout.write(str(class_id)+' '+str(center_x/fix_width)+' '+str(center_y/fix_height)+' '+str(w/fix_width)+' '+str(h/fix_height)+'\\n')\n",
    "                                        fout.write(str(0)+' '+str(center_x/fix_width)+' '+str(center_y/fix_height)+' '+str(w/fix_width)+' '+str(h/fix_height)+'\\n')\n",
    "                        else:\n",
    "                            print('Delete', old_filename)\n",
    "                            os.remove(old_filename)\n",
    "                    elif filename.endswith('jpg'):\n",
    "                        pass\n",
    "                        \n",
    "                    else:\n",
    "                        print('Warning:', old_filename)\n",
    "                    i = i + 1"
   ]
  },
  {
   "cell_type": "code",
   "execution_count": 16,
   "id": "23031264-31ab-4b65-82fc-e5fd85f938b0",
   "metadata": {
    "tags": []
   },
   "outputs": [
    {
     "name": "stdout",
     "output_type": "stream",
     "text": [
      "2922 2337 585\n"
     ]
    },
    {
     "name": "stderr",
     "output_type": "stream",
     "text": [
      "100%|██████████| 585/585 [00:00<00:00, 29263.28it/s]\n"
     ]
    }
   ],
   "source": [
    "import os\n",
    "from sklearn.model_selection import train_test_split\n",
    "\n",
    "filenames = os.listdir(os.path.join(LD3K_DS_DIR, 'images/train'))\n",
    "train_filenames, test_filenames = train_test_split(filenames, test_size=0.2)\n",
    "print(len(filenames), len(train_filenames), len(test_filenames))\n",
    "for filename in tqdm(test_filenames):\n",
    "    old_filename = os.path.join(LD3K_DS_DIR, 'images/train', filename)\n",
    "    new_filename = os.path.join(LD3K_DS_DIR, 'images/val', filename)\n",
    "    shutil.move(old_filename, new_filename)\n",
    "    \n",
    "    old_filename = os.path.join(LD3K_DS_DIR, 'labels/train', filename.replace('jpg', 'txt'))\n",
    "    new_filename = os.path.join(LD3K_DS_DIR, 'labels/val', filename.replace('jpg', 'txt'))\n",
    "    if os.path.exists(old_filename):\n",
    "        shutil.move(old_filename, new_filename)\n",
    "    else:\n",
    "        print('Not exist:', old_filename)"
   ]
  },
  {
   "cell_type": "code",
   "execution_count": 17,
   "id": "1fb34713-f202-43b1-9fba-6249f5f39969",
   "metadata": {
    "tags": []
   },
   "outputs": [
    {
     "name": "stdout",
     "output_type": "stream",
     "text": [
      "class_names_map: 2217\n"
     ]
    }
   ],
   "source": [
    "print('class_names_map:', len(class_names_map))\n",
    "\n",
    "cfg_path = os.path.join(LD3K_DATA_DIR, 'cfg', 'LogoDet-3K.yaml')\n",
    "with open(cfg_path, 'w') as fout:\n",
    "    fout.write('path: ' + '/opt/ml/input/data/training/' + '  # dataset root dir\\n')\n",
    "    fout.write('train: datasets/images/train  # train images (relative to \\'path\\')\\n')\n",
    "    fout.write('val: datasets/images/val  # val images (relative to \\'path\\')\\n')\n",
    "    fout.write('test:  # test images (optional)\\n')\n",
    "    fout.write('names:\\n')\n",
    "    for k,v in class_names_map.items():\n",
    "        fout.write('  '+str(v)+': '+str(k)+'\\n')"
   ]
  },
  {
   "cell_type": "markdown",
   "id": "5fe2bb19-0452-4c5f-a640-eed8a4577529",
   "metadata": {
    "tags": []
   },
   "source": [
    "准备fw5k实验数据，因为fw5k数据集规模比较小，没有做抽样"
   ]
  },
  {
   "cell_type": "code",
   "execution_count": 22,
   "id": "4151816c-125c-4986-b8dd-d57fe93691a2",
   "metadata": {
    "tags": []
   },
   "outputs": [],
   "source": [
    "!cp -r raw_data/image-data-4.28/images/*.jpg pipeline-exp-data/FreeWheel-5K-by-video-name/datasets/images/train\n",
    "!cp -r raw_data/image-data-4.28/labels/*.txt pipeline-exp-data/FreeWheel-5K-by-video-name/datasets/labels/train"
   ]
  },
  {
   "cell_type": "code",
   "execution_count": 23,
   "id": "fd946930-54cd-4262-9ae1-ec513a2f2c2d",
   "metadata": {
    "tags": []
   },
   "outputs": [
    {
     "name": "stdout",
     "output_type": "stream",
     "text": [
      "video_names: 1182\n"
     ]
    }
   ],
   "source": [
    "import os\n",
    "import shutil\n",
    "from sklearn.model_selection import train_test_split\n",
    "\n",
    "base_dir = 'pipeline-exp-data/FreeWheel-5K-by-video-name/datasets/images/train'\n",
    "filenames = os.listdir(base_dir)\n",
    "video_names = {}\n",
    "for filename in filenames:\n",
    "    video_name = filename.split('#')[0]\n",
    "    if video_name not in video_names:\n",
    "        video_names[video_name] = []\n",
    "    video_names[video_name].append(filename)\n",
    "print('video_names:', len(video_names))"
   ]
  },
  {
   "cell_type": "code",
   "execution_count": 24,
   "id": "be2b8b3b-374d-48d5-8e71-39b2f202a1e8",
   "metadata": {
    "tags": []
   },
   "outputs": [
    {
     "name": "stdout",
     "output_type": "stream",
     "text": [
      "945 237\n"
     ]
    }
   ],
   "source": [
    "train_video_names, val_video_names = train_test_split(list(video_names.keys()), test_size=0.2)\n",
    "for video_name in val_video_names:\n",
    "    val_filenames = video_names[video_name]\n",
    "    for filename in val_filenames:\n",
    "        if filename.endswith('jpg'):\n",
    "            filename = os.path.join(base_dir, filename)\n",
    "            shutil.move(filename, filename.replace('images/train', 'images/val'))\n",
    "            label_filename = filename.replace('jpg', 'txt').replace('images', 'labels')\n",
    "            if os.path.exists(label_filename):\n",
    "                shutil.move(label_filename, label_filename.replace('labels/train', 'labels/val'))\n",
    "print(len(train_video_names), len(val_video_names))"
   ]
  },
  {
   "cell_type": "code",
   "execution_count": 25,
   "id": "dee79e9d-8daa-4440-bb17-ba098a180d8d",
   "metadata": {
    "tags": []
   },
   "outputs": [],
   "source": [
    "class_names_map = {}\n",
    "\n",
    "with open('raw_data/image-data-4.28/labels.txt', 'r') as fin:\n",
    "    lines = fin.readlines()\n",
    "    for i, line in enumerate(lines):\n",
    "        class_names_map[line.strip()] = i\n",
    "\n",
    "with open('pipeline-exp-data/FreeWheel-5K-by-video-name/cfg/FreeWheel-5K-by-video-name.yaml', 'w') as fout:\n",
    "    fout.write('path: /opt/ml/input/data/training/  # dataset root dir\\n')\n",
    "    fout.write('train: datasets/images/train  # train images (relative to \\'path\\')\\n')\n",
    "    fout.write('val: datasets/images/val  # val images (relative to \\'path\\')\\n')\n",
    "    fout.write('test:  # test images (optional)\\n')\n",
    "    fout.write('names:\\n')\n",
    "    for k,v in class_names_map.items():\n",
    "        fout.write('  '+str(v)+': '+str(k)+'\\n')"
   ]
  },
  {
   "cell_type": "markdown",
   "id": "f47ac21b-589b-46c4-b6ab-456d3017d40a",
   "metadata": {},
   "source": [
    "最后上传logo3k和fw5k数据集到S3上"
   ]
  },
  {
   "cell_type": "code",
   "execution_count": 26,
   "id": "08b25689-8e07-45ef-bfc5-003447d23fb3",
   "metadata": {
    "tags": []
   },
   "outputs": [
    {
     "name": "stdout",
     "output_type": "stream",
     "text": [
      "env: TRN_BUCKET=logo-detection-data\n"
     ]
    }
   ],
   "source": [
    "%env TRN_BUCKET=logo-detection-data\n",
    "\n",
    "#!aws s3api put-object --bucket $TRN_BUCKET --key $PRE\n",
    "#!docker run --rm -v $(pwd):/aws -v ~/.aws:/root/.aws s5cmd rm s3://$TRN_BUCKET/* 1>/dev/null\n",
    "!docker run --rm -v $(pwd):/aws -v ~/.aws:/root/.aws s5cmd sync /aws/pipeline-exp-data s3://$TRN_BUCKET/ 1>/dev/null"
   ]
  },
  {
   "cell_type": "markdown",
   "id": "20536b2f-e990-42fd-b1b1-5a4bc8457a85",
   "metadata": {},
   "source": [
    "## 1. 准备Sagemaker训练任务  \n",
    "这一步的主要目的是通过sagemaker sdk创建对应的训练estimation对象，这些对象在后边会被step functions的training step引用"
   ]
  },
  {
   "cell_type": "markdown",
   "id": "b8501711-d1a4-4ab9-a01a-9bb006d08a60",
   "metadata": {},
   "source": [
    "创建基础（logo3k）训练任务，也就是estimator"
   ]
  },
  {
   "cell_type": "code",
   "execution_count": 412,
   "id": "2ea0a489-258a-4090-9063-3308197d16df",
   "metadata": {
    "tags": []
   },
   "outputs": [
    {
     "name": "stdout",
     "output_type": "stream",
     "text": [
      "2.146.0\n"
     ]
    }
   ],
   "source": [
    "import os\n",
    "import sagemaker\n",
    "print(sagemaker.__version__)\n",
    "\n",
    "from sagemaker.pytorch import PyTorch\n",
    "from sagemaker.pytorch.model import PyTorchModel\n",
    "\n",
    "sagemaker_session = sagemaker.Session()\n",
    "\n",
    "role = sagemaker.get_execution_role()"
   ]
  },
  {
   "cell_type": "code",
   "execution_count": 413,
   "id": "d2ee187c-39dd-4fd7-89d0-eb80e5c0d5a4",
   "metadata": {
    "tags": []
   },
   "outputs": [
    {
     "name": "stdout",
     "output_type": "stream",
     "text": [
      "s3://logo-detection-data/pipeline-exp-data/LogoDet-3K\n"
     ]
    }
   ],
   "source": [
    "TRN_BUCKET='logo-detection-data'\n",
    "\n",
    "# logo3k在本地的目录\n",
    "DET_DATA_DIR = 'pipeline-exp-data'\n",
    "LD3K_DATA_DIR = DET_DATA_DIR + '/' + 'LogoDet-3K'\n",
    "# logo3k在s3上的prefix和本地目录结构一致\n",
    "LD3K_PRE=LD3K_DATA_DIR\n",
    "base_data_location = 's3://{}/{}'.format(TRN_BUCKET, LD3K_PRE)\n",
    "base_inputs = base_data_location\n",
    "# 这个s3地址未来会作为pipeline的input，传递给step functions\n",
    "print(base_inputs)"
   ]
  },
  {
   "cell_type": "code",
   "execution_count": 414,
   "id": "45a23119-b7f2-42cb-a0ac-41e0ae86621a",
   "metadata": {
    "tags": []
   },
   "outputs": [],
   "source": [
    "'''\n",
    "这里训练的input和《FreeWheel Logo Detection模型训练指导》中有些差异\n",
    "为了满足step function的input规范，这里我们只会传入一个训练数据的prefix，而不会按照cfg，weight，datasets组织channel\n",
    "'''\n",
    "base_hyperparameters = {'data': '/opt/ml/input/data/training/cfg/LogoDet-3K.yaml', \n",
    "                   'weight': 'yolov8s.pt',\n",
    "                   'project': '/opt/ml/model/',\n",
    "                   'name': 'fw-logo-detection', 'imgsz': 640, 'batch': 4, 'epochs': 1, 'workers':1}  # Single CPU or GPU\n",
    "                   # 'name': 'fw-logo-detection', 'imgsz': 640, 'batch': 16, 'epochs': 1, 'device': '0,1,2,3', 'workers':1}  # Multi-GPU: DP Mode\n",
    "\n",
    "base_instance_type = 'ml.p3.2xlarge'  # 'ml.p3.2xlarge' or 'ml.p3.8xlarge' or ...\n",
    "\n",
    "\n",
    "base_metric_definitions = [{'Name': 'mAP50',\n",
    "                       'Regex': '^all\\s+(?:[\\d.]+\\s+){4}([\\d.]+)'}]\n",
    "\n",
    "base_estimator = PyTorch(entry_point='train.py',\n",
    "                            source_dir='./code/',\n",
    "                            role=role,\n",
    "                            hyperparameters=base_hyperparameters,\n",
    "                            framework_version='1.13.1',\n",
    "                            py_version='py39',\n",
    "                            script_mode=True,\n",
    "                            instance_count=1,  # 1 or 2 or ...\n",
    "                            metric_definitions=base_metric_definitions,\n",
    "                            instance_type=base_instance_type,\n",
    "                            # distribution={\n",
    "                            #     \"torch_distributed\": {\n",
    "                            #         \"enabled\": True\n",
    "                            #     }\n",
    "                            # }\n",
    "            )\n",
    "\n",
    "# base_estimator.fit(base_inputs)"
   ]
  },
  {
   "cell_type": "markdown",
   "id": "46ccc355-60d4-48f8-b3ff-1a287c756d9c",
   "metadata": {},
   "source": [
    "创建增量（fw5k）训练任务的estimator"
   ]
  },
  {
   "cell_type": "code",
   "execution_count": 415,
   "id": "7520614f-1ae5-480a-8c40-6879b483e4fb",
   "metadata": {
    "tags": []
   },
   "outputs": [
    {
     "name": "stdout",
     "output_type": "stream",
     "text": [
      "s3://logo-detection-data/pipeline-exp-data/FreeWheel-5K-by-video-name\n"
     ]
    }
   ],
   "source": [
    "DET_DATA_DIR = 'pipeline-exp-data'\n",
    "FW5K_DATA_DIR = DET_DATA_DIR + '/' + 'FreeWheel-5K-by-video-name'\n",
    "FW5K_DS_DIR = FW5K_DATA_DIR + '/' + 'datasets'\n",
    "\n",
    "TRN_BUCKET = 'logo-detection-data'\n",
    "# PRE='fw-logo-detection'\n",
    "FW5K_PRE = FW5K_DATA_DIR\n",
    "incremental_data_location = 's3://{}/{}'.format(TRN_BUCKET, FW5K_PRE)\n",
    "incremental_inputs = incremental_data_location\n",
    "print(str(incremental_inputs))"
   ]
  },
  {
   "cell_type": "code",
   "execution_count": 416,
   "id": "b3980c41-1900-41e7-9676-4b4a97a06475",
   "metadata": {
    "tags": []
   },
   "outputs": [],
   "source": [
    "incremental_hyperparameters = {'data': '/opt/ml/input/data/training/cfg/FreeWheel-5K-by-video-name.yaml', \n",
    "                   'weight': '/opt/ml/input/data/training/weights/yolov8s.pt',\n",
    "                   'project': '/opt/ml/model/',\n",
    "                   'name': 'fw-logo-detection', 'imgsz': 640, 'batch': 4, 'epochs': 1}  # Single CPU or GPU\n",
    "#                    'name': 'fw-logo-detection', 'imgsz': 640, 'batch': 16, 'epochs': 5, 'device': '0,1,2,3'}  # Multi-GPU: DP Mode\n",
    "\n",
    "incremental_instance_type = 'ml.p3.2xlarge'  # 'ml.p3.2xlarge' or 'ml.p3.8xlarge' or ...\n",
    "\n",
    "\n",
    "incremental_metric_definitions = [{'Name': 'mAP50',\n",
    "                       'Regex': '^all\\s+(?:[\\d.]+\\s+){4}([\\d.]+)'}]\n",
    "\n",
    "incremental_estimator = PyTorch(entry_point='train.py',\n",
    "                            source_dir='./code/',\n",
    "                            role=role,\n",
    "                            hyperparameters=incremental_hyperparameters,\n",
    "                            framework_version='1.13.1',\n",
    "                            py_version='py39',\n",
    "                            script_mode=True,\n",
    "                            instance_count=1,  # 1 or 2 or ...\n",
    "                            metric_definitions=incremental_metric_definitions,\n",
    "                            instance_type=incremental_instance_type)\n",
    "\n",
    "# incremental_estimator.fit(incremental_inputs)"
   ]
  },
  {
   "cell_type": "markdown",
   "id": "4aa37cdd-152a-409d-a47e-b8d4feddb957",
   "metadata": {},
   "source": [
    "## 2. 部署Pipeline中需要使用的lambda function  "
   ]
  },
  {
   "cell_type": "markdown",
   "id": "15fe5976-c84f-4ed5-9e7c-2a561246dd80",
   "metadata": {},
   "source": [
    "在此步中我们将创建3个lambda function，他们的介绍和作用如下：\n",
    "- **weight helper**  \n",
    "由于我们有可能从一个基础训练开始，然后完成增量训练，因此这里需要将基础训练的结果best.pt下载解压并上传到增量训练需要用到的数据目录中\n",
    "- **query training metrics**  \n",
    "增量训练结束后我们需要确认模型的性能是否能满足需求，因此需要这个function去查询mAP50的metrics，并作为output返回给step functions\n",
    "- **model wrapper**  \n",
    "因为我们使用了自定义的inference.py文件，所以我们需要对增量训练的结果best.pt和inference.py文件进行打包上传到s3，用于之后推理服务器的使用\n",
    "\n",
    "部署这三个lambda需要安装AWS SAM CLI，安装步骤可以参考[此链接](https://docs.aws.amazon.com/serverless-application-model/latest/developerguide/install-sam-cli.html)  \n",
    "部署具体步骤如下：\n",
    "1. 导航到各个function对应的目录下\n",
    "2. 执行 sam build\n",
    "3. 执行 sam deploy\n",
    "4. 部署成功后，记录function的ARN用于之后step functions pipeline的构建"
   ]
  },
  {
   "cell_type": "markdown",
   "id": "dd0b7992-0018-499c-ac49-996eed8cb752",
   "metadata": {},
   "source": [
    "## 3. 构建Step Functions Pipeline"
   ]
  },
  {
   "attachments": {
    "488d3beb-0979-4d9c-b060-e5435956005d.png": {
     "image/png": "[encoded data removed]"
    }
   },
   "cell_type": "markdown",
   "id": "b0bd5593-f1c6-459d-a09f-2bfdf4efea9b",
   "metadata": {},
   "source": [
    "在这一步我们要构建一个如下图的模型训练部署pipeline:  \n",
    "\n",
    "![stepfunctions_graph.png](attachment:488d3beb-0979-4d9c-b060-e5435956005d.png)\n",
    "\n",
    "下面对pipeline中各个step做逐一的解释：\n",
    "1. **input pass**: 将传入pipeline的input数据原封不动的传递给下一个step\n",
    "2. **Check if full training**: 通过input传入的'IsFullTraining'参数判断，是否需要从基础训练开始，如果为false则跳过基础训练\n",
    "3. **Base Training**: 进行基础训练\n",
    "4. **Weight Helper**: 如果进行了基础训练，则weight helper会对基础训练的模型数据进行提取，得到best.pt文件并将其复制到增量训练数据的weight文件夹下；如果没有进行基础训练，weight helper则会检查增量训练数据的weight文件夹下是否有best.pt文件，如果没有，会复制一个best.pt过来\n",
    "5. **Incremental Training**: 进行增量训练\n",
    "6. **Query Training Metrics**: 通过Lambda检查增量训练的mAP50的结果并将其作为数据传递给下一个step\n",
    "7. **mAP50 > 90%?**: 通过Choice Rule判断mAP50的结果是否满足我们的要求，如果不满足直接失败，如果满足则进入之后的模型部署step  \n",
    "  7-a. **Model mAP too Low** 如果mAP低于阈值，则pipeling执行失败\n",
    "8. **Model Wrapper**: 因为我们使用了自定义的inference.py文件，因此我们需要自己打包model并上传到inference实例\n",
    "9. **Save Model**: 创建SageMaker模型对象\n",
    "10. **Create Model Endpoint Config**: 创建SageMaker Endpoint Config对象\n",
    "11. **Updata Endpoint**: 创建SageMaker Inference Endpoing"
   ]
  },
  {
   "cell_type": "code",
   "execution_count": 447,
   "id": "32554321-602e-4745-aa58-5fe6d0521dc4",
   "metadata": {},
   "outputs": [],
   "source": [
    "'''\n",
    "完成初始化工作\n",
    "'''\n",
    "import uuid\n",
    "import logging\n",
    "import boto3\n",
    "import sagemaker\n",
    "\n",
    "# 通用的初始化\n",
    "stepfunctions.set_stream_logger(level=logging.INFO)\n",
    "\n",
    "# 生成uuid，用于唯一化各个组件需要用到的name\n",
    "id = uuid.uuid4().hex"
   ]
  },
  {
   "cell_type": "code",
   "execution_count": 448,
   "id": "735b9837-b7f7-4e17-bd17-1fd846adf6ce",
   "metadata": {
    "tags": []
   },
   "outputs": [],
   "source": [
    "'''\n",
    "引入step function sdk和后续需要用的模块\n",
    "'''\n",
    "import stepfunctions\n",
    "from stepfunctions import steps\n",
    "from stepfunctions.steps import TrainingStep, ModelStep, LambdaStep\n",
    "from stepfunctions.inputs import ExecutionInput\n",
    "from stepfunctions.workflow import Workflow\n",
    "from stepfunctions.steps import Parallel, Choice, ChoiceRule, Fail"
   ]
  },
  {
   "cell_type": "code",
   "execution_count": 449,
   "id": "6b874e93-266c-433c-8afd-a14666b06a8a",
   "metadata": {
    "tags": []
   },
   "outputs": [],
   "source": [
    "'''\n",
    "定义传入step functions的input schema\n",
    "调用pipeline的时候，需要传入如下的参数作为input\n",
    "'''\n",
    "execution_input = ExecutionInput(schema={\n",
    "    'IsFullTraining': str,\n",
    "    'BaseTrainingJobName': str,\n",
    "    'BaseTrainingDataPath': str,\n",
    "    'BestWeightsPath': str,\n",
    "    'IncrementalTrainingJobName': str,\n",
    "    'IncrementalTrainingDataPath': str,\n",
    "    'InferenceCodePath': str,\n",
    "    'ModelPath': str,\n",
    "    'ModelName': str,\n",
    "    'EndpointName': str,\n",
    "})"
   ]
  },
  {
   "cell_type": "code",
   "execution_count": 450,
   "id": "5a0674ab-0d3b-41b2-b49f-4dc63c158ee8",
   "metadata": {
    "tags": []
   },
   "outputs": [],
   "source": [
    "'''\n",
    "1. input pass: \n",
    "将传入pipeline的input数据原封不动的传递给下一个step\n",
    "'''\n",
    "input_pass_step = steps.states.Pass(\n",
    "    'Input Pass',\n",
    "    comment='Input Pass'\n",
    ")"
   ]
  },
  {
   "cell_type": "code",
   "execution_count": 451,
   "id": "d11a7454-e11d-463a-8c7d-0222adfe5208",
   "metadata": {
    "tags": []
   },
   "outputs": [],
   "source": [
    "'''\n",
    "2. Check if full training: \n",
    "通过input传入的'IsFullTraining'参数判断，是否需要从基础训练开始，如果为false则跳过基础训练\n",
    "'''\n",
    "check_full_step = steps.states.Choice(\n",
    "    'Check if Full Training'\n",
    ")"
   ]
  },
  {
   "cell_type": "code",
   "execution_count": 452,
   "id": "2592264b-fb9f-4246-91fa-0610955a9e17",
   "metadata": {
    "tags": []
   },
   "outputs": [
    {
     "name": "stderr",
     "output_type": "stream",
     "text": [
      "INFO:sagemaker.image_uris:image_uri is not presented, retrieving image_uri based on instance_type, framework etc.\n"
     ]
    }
   ],
   "source": [
    "'''\n",
    "3. Base Training: \n",
    "进行基础训练\n",
    "'''\n",
    "base_step = TrainingStep(\n",
    "    'Base Training',\n",
    "    estimator=base_estimator,\n",
    "    data=execution_input['BaseTrainingDataPath'],\n",
    "    job_name=execution_input['BaseTrainingJobName'],\n",
    "    wait_for_completion=True,\n",
    "    result_path='$.BaseTrainingResults'\n",
    ")\n"
   ]
  },
  {
   "cell_type": "code",
   "execution_count": 453,
   "id": "5245d06d-2dbd-4352-bbf5-2515b017ca4d",
   "metadata": {
    "tags": []
   },
   "outputs": [],
   "source": [
    "'''\n",
    "4. Weight Helper: \n",
    "提取best.pt文件，并保证增量训练数据中包含best.pt\n",
    "'''\n",
    "\n",
    "weight_helper_step = LambdaStep(\n",
    "    'Weight Helper',\n",
    "    parameters={  \n",
    "        \"FunctionName\": \"arn:aws:lambda:us-west-2:935206693453:function:weight-checker-HelloWorldFunction-sNu9tEaAbG1Q\",\n",
    "        \"Payload\":{  \n",
    "               \"inputs.$\":\"$\"\n",
    "            }\n",
    "        },\n",
    "    result_path='$.WeightHelperResult'\n",
    ")"
   ]
  },
  {
   "cell_type": "code",
   "execution_count": 454,
   "id": "f7acfb0e-bfa2-4302-af98-981cd5a01e6d",
   "metadata": {
    "tags": []
   },
   "outputs": [
    {
     "name": "stderr",
     "output_type": "stream",
     "text": [
      "INFO:sagemaker.image_uris:image_uri is not presented, retrieving image_uri based on instance_type, framework etc.\n"
     ]
    }
   ],
   "source": [
    "'''\n",
    "5. Incremental Training: \n",
    "进行增量训练\n",
    "'''\n",
    "incremental_step = TrainingStep(\n",
    "    'Incremental Training',\n",
    "    estimator=incremental_estimator,\n",
    "    data=execution_input['IncrementalTrainingDataPath'],\n",
    "    job_name=execution_input['IncrementalTrainingJobName'],\n",
    "    wait_for_completion=True,\n",
    "    result_path='$.IncrementalTrainingResults'\n",
    ")"
   ]
  },
  {
   "cell_type": "code",
   "execution_count": 455,
   "id": "aa97fcd6-e6cc-4f47-80c8-fd58443d15be",
   "metadata": {
    "tags": []
   },
   "outputs": [],
   "source": [
    "'''\n",
    "6. Query Training Metrics: \n",
    "通过Lambda检查增量训练的mAP50的结果并将其作为数据传递给下一个step\n",
    "'''\n",
    "query_training_metrics_step = LambdaStep(\n",
    "    'query training metrics',\n",
    "    parameters={  \n",
    "        \"FunctionName\": \"arn:aws:lambda:us-west-2:935206693453:function:query-training-metrics-HelloWorldFunction-3g01MUhfN0Rc\",\n",
    "        \"Payload\":{  \n",
    "               \"inputs.$\":\"$\"\n",
    "            }\n",
    "        },\n",
    "    result_path='$.QueryTrainingMetricsResult'\n",
    ")"
   ]
  },
  {
   "cell_type": "code",
   "execution_count": 456,
   "id": "02ba1d19-afc6-4d06-ba1a-80296e1c1e37",
   "metadata": {
    "tags": []
   },
   "outputs": [],
   "source": [
    "'''\n",
    "7. mAP50 > 90%?: \n",
    "通过Choice Rule判断mAP50的结果是否满足我们的要求\n",
    "'''\n",
    "check_mAP50_step = steps.states.Choice(\n",
    "    'mAP50 > 90%'\n",
    ")"
   ]
  },
  {
   "cell_type": "code",
   "execution_count": 457,
   "id": "f128f372-4618-4717-88ef-a3b60295486b",
   "metadata": {
    "tags": []
   },
   "outputs": [],
   "source": [
    "'''\n",
    "7-a. Model mAP too Low: \n",
    "如果mAP低于阈值，则pipeling执行失败\n",
    "'''\n",
    "# 如果metrics不满足条件，那么整个流水线失败，需要创建一个Fail state\n",
    "fail_step = steps.states.Fail(\n",
    "    'Model mAP Too Low',\n",
    "    comment='Validation mAP lower than threshold'\n",
    ")"
   ]
  },
  {
   "cell_type": "code",
   "execution_count": 458,
   "id": "16e3b1d1-bfe5-46c2-8b07-ed1850a81242",
   "metadata": {
    "tags": []
   },
   "outputs": [],
   "source": [
    "'''\n",
    "8. Model Wrapper: \n",
    "打包model并上传到inference实例\n",
    "'''\n",
    "model_wrapper_step = LambdaStep(\n",
    "    'Wrap model file',\n",
    "    parameters={  \n",
    "        \"FunctionName\": \"arn:aws:lambda:us-west-2:935206693453:function:model-wrapper-HelloWorldFunction-f5JauhwQ0yqv\",\n",
    "        \"Payload\":{  \n",
    "               \"inputs.$\":\"$\"\n",
    "            }\n",
    "        },\n",
    "    result_path='$.ModelWrapperResult'\n",
    ")"
   ]
  },
  {
   "cell_type": "code",
   "execution_count": 459,
   "id": "b5e51ab5-7e58-42e0-a8fa-970cfa170b3c",
   "metadata": {
    "tags": []
   },
   "outputs": [],
   "source": [
    "from sagemaker.pytorch.model import PyTorchModel\n",
    "\n",
    "role = sagemaker.get_execution_role()\n",
    "\n",
    "# inference instance type\n",
    "instance_type = 'ml.m5.xlarge'\n",
    "\n",
    "env={\n",
    "    \"TS_MAX_REQUEST_SIZE\": str(100*1024*1024),\n",
    "    # \"SAGEMAKER_SUBMIT_DIRECTORY\": \"/opt/ml/model/code\"\n",
    "} \n",
    "\n",
    "# 创建sagemaker的模型对象\n",
    "det_model = PyTorchModel(\n",
    "                    model_data='s3://logo-detection-data/pipeline-exp-data/model/model.tar.gz', \n",
    "                    role=role,\n",
    "                    sagemaker_session=sagemaker_session,\n",
    "                    env=env,\n",
    "                    entry_point='inference.py', \n",
    "                    framework_version='1.13.1', \n",
    "                    py_version='py39'\n",
    "                )"
   ]
  },
  {
   "cell_type": "code",
   "execution_count": 460,
   "id": "36a772f2-4b3d-4e9a-a744-0d40bd49602c",
   "metadata": {
    "tags": []
   },
   "outputs": [
    {
     "name": "stdout",
     "output_type": "stream",
     "text": [
      "\u001b[32m[INFO] Property: <ModelDataUrl> with value: <s3://logo-detection-data/pipeline-exp-data/model/model.tar.gz> will be overwritten with provided value: <<stepfunctions.inputs.placeholders.StepInput object at 0x7f97691be690>>\u001b[0m\n"
     ]
    }
   ],
   "source": [
    "'''\n",
    "9. Save Model: \n",
    "创建SageMaker模型对象\n",
    "'''\n",
    "model_step = steps.ModelStep(\n",
    "    'Save Model',\n",
    "    model=det_model,\n",
    "    model_name=execution_input['ModelName'],\n",
    "    instance_type='ml.m5.xlarge',\n",
    "    parameters={\"PrimaryContainer\": {\"ModelDataUrl\": model_wrapper_step.output()['ModelWrapperResult']['Payload']['ModelPath']}},\n",
    "    result_path='$.ModelStepResults'\n",
    ")"
   ]
  },
  {
   "cell_type": "code",
   "execution_count": 461,
   "id": "dc525596-0cae-49fc-b91f-f6f8dd848041",
   "metadata": {
    "tags": []
   },
   "outputs": [],
   "source": [
    "'''\n",
    "10. Create Model Endpoint Config:\n",
    "创建SageMaker Endpoint Config对象\n",
    "'''\n",
    "# 如果要对模型进行部署，需要定义模型部署的endpiont的配置，因此创建对应的step\n",
    "endpoint_config_step = steps.EndpointConfigStep(\n",
    "    \"Create Model Endpoint Config\",\n",
    "    endpoint_config_name=execution_input['ModelName'],\n",
    "    model_name=execution_input['ModelName'],\n",
    "    initial_instance_count=1,\n",
    "    instance_type='ml.m5.xlarge'\n",
    ")"
   ]
  },
  {
   "cell_type": "code",
   "execution_count": 462,
   "id": "28c081bb-8c71-4d3f-a6bb-34f010d6c0ad",
   "metadata": {
    "tags": []
   },
   "outputs": [],
   "source": [
    "'''\n",
    "11. Updata Endpoint:\n",
    "创建SageMaker Inference Endpoing\n",
    "'''\n",
    "# 创建完配置后就需要真正的部署endpoint，创建对应的step\n",
    "endpoint_step = steps.EndpointStep(\n",
    "    'Update Model Endpoint',\n",
    "    endpoint_name=execution_input['EndpointName'],\n",
    "    endpoint_config_name=execution_input['ModelName'],\n",
    "    update=False,\n",
    "    result_path='$.EndpointResults'\n",
    ")"
   ]
  },
  {
   "cell_type": "code",
   "execution_count": 463,
   "id": "0fb1831b-d056-4893-b24f-870799958e26",
   "metadata": {
    "tags": []
   },
   "outputs": [],
   "source": [
    "'''\n",
    "将之前创建好的step串联起来，我们从后往前进行串联\n",
    "首先#7 step是一个choice step，如果满足条件会有创建endpoint分支，如果不满足会走失败的分支\n",
    "'''\n",
    "# 通过Chain组织起endpoint的分支\n",
    "model_deploy_chain = steps.Chain([\n",
    "    model_wrapper_step,\n",
    "    model_step,\n",
    "    endpoint_config_step,\n",
    "    endpoint_step\n",
    "])\n",
    "\n",
    "# 在Choice step中需要定义rule，用于判断，从而选择下一步step是哪个\n",
    "map50_threshold_rule = steps.choice_rule.ChoiceRule.NumericGreaterThan(variable=query_training_metrics_step.output()['QueryTrainingMetricsResult']['Payload']['trainingMetrics'][0]['Value'], value=.2)\n",
    "\n",
    "# 添加choice，如果这个rule为真那么就走model_deploy_chain，否则就是fail step\n",
    "check_mAP50_step.add_choice(rule=map50_threshold_rule, next_step=model_deploy_chain)\n",
    "check_mAP50_step.default_choice(next_step=fail_step)"
   ]
  },
  {
   "cell_type": "code",
   "execution_count": 464,
   "id": "7782c076-6162-4853-a5d8-5ffa7a4c6df7",
   "metadata": {
    "tags": []
   },
   "outputs": [],
   "source": [
    "'''\n",
    "再往上出现分支的step是#2，这一步判断是否需要全量训练（基础+增量）\n",
    "如果需要全量训练会走一个分支，因此也需要对此分支进行Chain的操作\n",
    "'''\n",
    "full_chain = steps.Chain([\n",
    "    base_step,\n",
    "    weight_helper_step,\n",
    "    incremental_step,\n",
    "    query_training_metrics_step,\n",
    "    check_mAP50_step\n",
    "])\n",
    "\n",
    "# 在Choice state中需要定义rule，用于判断，从而选择下一步step是哪个\n",
    "boolean_rule = steps.choice_rule.ChoiceRule.StringEquals(variable=input_pass_step.output()['IsFullTraining'], value='True')\n",
    "\n",
    "# 添加choice，如果这个rule为真那么就走全量训练，否则就是跳过基础训练进入weight helper\n",
    "check_full_step.add_choice(rule=boolean_rule, next_step=full_chain)\n",
    "check_full_step.default_choice(next_step=weight_helper_step)\n",
    "\n"
   ]
  },
  {
   "cell_type": "code",
   "execution_count": 465,
   "id": "183261cd-897f-465f-8e60-c3b627a59c14",
   "metadata": {
    "tags": []
   },
   "outputs": [],
   "source": [
    "'''\n",
    "最后再把剩余的step串起来\n",
    "'''\n",
    "ml_chain = steps.Chain([\n",
    "    input_pass_step,\n",
    "    check_full_step\n",
    "])"
   ]
  },
  {
   "cell_type": "code",
   "execution_count": 466,
   "id": "a6dab886-4029-4c8f-85d6-1b3cab35c931",
   "metadata": {
    "tags": []
   },
   "outputs": [],
   "source": [
    "# 在IAM中创建一个step functions execution role并赋予sagemaker和lambda权限\n",
    "workflow_execution_role = 'arn:aws:iam::935206693453:role/StepFunctionsWorkflowExecutionRole'\n",
    "\n",
    "# 配置workflow\n",
    "workflow = Workflow(\n",
    "    name='FW-Det-Pipline-{}'.format(id),\n",
    "    definition=ml_chain,\n",
    "    role=workflow_execution_role,\n",
    "    execution_input=execution_input\n",
    ")"
   ]
  },
  {
   "cell_type": "code",
   "execution_count": 467,
   "id": "7e6f33dd-5cb4-4915-a75b-5cdf8143dc49",
   "metadata": {
    "tags": []
   },
   "outputs": [
    {
     "name": "stdout",
     "output_type": "stream",
     "text": [
      "\u001b[32m[INFO] Workflow updated successfully on AWS Step Functions. All execute() calls will use the updated definition and role within a few seconds. \u001b[0m\n"
     ]
    },
    {
     "data": {
      "text/plain": [
       "'arn:aws:states:us-west-2:935206693453:stateMachine:FW-Det-Pipline-20b23e3733e0424ab75c3b677f05f407'"
      ]
     },
     "execution_count": 467,
     "metadata": {},
     "output_type": "execute_result"
    }
   ],
   "source": [
    "# 如果是创建workflow，请执行下面这个命令\n",
    "# workflow.create()\n",
    "\n",
    "# 更新现有的workflow\n",
    "state_machine_arn = 'arn:aws:states:us-west-2:935206693453:stateMachine:FW-Det-Pipline-20b23e3733e0424ab75c3b677f05f407'\n",
    "workflow = Workflow.attach(state_machine_arn)\n",
    "workflow.update(ml_chain)"
   ]
  },
  {
   "cell_type": "code",
   "execution_count": 438,
   "id": "0172a2e5-5fe9-4f76-8cc7-2c78f999c75e",
   "metadata": {
    "tags": []
   },
   "outputs": [
    {
     "name": "stdout",
     "output_type": "stream",
     "text": [
      "\u001b[32m[INFO] Workflow execution started successfully on AWS Step Functions.\u001b[0m\n"
     ]
    }
   ],
   "source": [
    "execution = workflow.execute(\n",
    "    inputs={\n",
    "        'IsFullTraining': 'True',\n",
    "        'BaseTrainingJobName': 'fw-det-base-job-{}'.format(id), # Each Sagemaker Job requires a unique name,\n",
    "        'IncrementalTrainingJobName': 'fw-det-incremental-job-{}'.format(id),\n",
    "        'BaseTrainingDataPath': 's3://logo-detection-data/pipeline-exp-data/LogoDet-3K/',\n",
    "        'IncrementalTrainingDataPath': 's3://logo-detection-data/pipeline-exp-data/FreeWheel-5K-by-video-name/',\n",
    "        'BestWeightsPath': 's3://logo-detection-data/pipeline-exp-data/best-weights/',\n",
    "        'InferenceCodePath': 's3://logo-detection-data/pipeline-exp-data/inference/',\n",
    "        'ModelPath': 's3://logo-detection-data/pipeline-exp-data/model/',\n",
    "        'ModelName': 'fw-det-pipeline-model-{}'.format(id),\n",
    "        'EndpointName': 'fw-det-pipeline-endpoint-{}'.format(id)\n",
    "    }\n",
    ")"
   ]
  },
  {
   "cell_type": "markdown",
   "id": "b9467c48-06dd-4e47-ade0-0953c2a53377",
   "metadata": {},
   "source": [
    "## 4. 测试Endpoint"
   ]
  },
  {
   "cell_type": "code",
   "execution_count": 439,
   "id": "3814a265-a77f-41d8-9346-d3363b43af89",
   "metadata": {
    "tags": []
   },
   "outputs": [],
   "source": [
    "# 将endpoint替换为pipeline创建的endpoint name\n",
    "predictor = sagemaker.predictor.Predictor(endpoint_name=\"fw-det-pipeline-endpoint-8a093f33828c44b5a7b591735d8ef5cb\",\n",
    "                                          sagemaker_session=sagemaker_session,\n",
    "                                          serializer=sagemaker.serializers.NumpySerializer()\n",
    "                                         )"
   ]
  },
  {
   "cell_type": "code",
   "execution_count": 441,
   "id": "405b8d5a-b290-4202-958d-9f7fe1350ec3",
   "metadata": {
    "tags": []
   },
   "outputs": [
    {
     "name": "stdout",
     "output_type": "stream",
     "text": [
      "outputs:  b'[{\"boxes\": [[0.37656617164611816, 0.11119751632213593, 0.133263498544693, 0.09143630415201187]], \"confs\": [0.5240346789360046], \"classes\": [48.0]}]'\n"
     ]
    }
   ],
   "source": [
    "import cv2\n",
    "\n",
    "# 通过opencv将图片转换成numpy array用于推理\n",
    "image = cv2.imread('image_sample/ABC_Chicago.jpg')\n",
    "\n",
    "# print('image:', type(image), image.shape, image.dtype)\n",
    "outputs = predictor.predict(image)\n",
    "print('outputs: ', outputs)"
   ]
  },
  {
   "cell_type": "code",
   "execution_count": null,
   "id": "03dbc134-40f6-4d4b-ae94-a22229a60546",
   "metadata": {},
   "outputs": [],
   "source": []
  }
 ],
 "metadata": {
  "kernelspec": {
   "display_name": "conda_amazonei_pytorch_latest_p37",
   "language": "python",
   "name": "conda_amazonei_pytorch_latest_p37"
  },
  "language_info": {
   "codemirror_mode": {
    "name": "ipython",
    "version": 3
   },
   "file_extension": ".py",
   "mimetype": "text/x-python",
   "name": "python",
   "nbconvert_exporter": "python",
   "pygments_lexer": "ipython3",
   "version": "3.7.10"
  }
 },
 "nbformat": 4,
 "nbformat_minor": 5
}
